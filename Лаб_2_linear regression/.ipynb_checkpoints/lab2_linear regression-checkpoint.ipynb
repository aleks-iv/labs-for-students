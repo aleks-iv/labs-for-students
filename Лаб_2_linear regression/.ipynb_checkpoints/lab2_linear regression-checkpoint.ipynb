{
 "cells": [
  {
   "cell_type": "markdown",
   "metadata": {},
   "source": [
    "## Лінійна регресія"
   ]
  },
  {
   "cell_type": "markdown",
   "metadata": {},
   "source": [
    "##### Імпортуємо необхідні бібліотеки"
   ]
  },
  {
   "cell_type": "code",
   "execution_count": 38,
   "metadata": {},
   "outputs": [],
   "source": [
    "# Імпортуємо бібліотеку для реалізації операцій лінійної алгебри.\n",
    "import numpy as np\n",
    "# Імпортуємо бібліотеку для побудови графіків\n",
    "import matplotlib.pyplot as plt\n",
    "# Імпортуємо бібліотеку машинного навчання scikit-learn [scikit-learn.org],\n",
    "# конкретно імпортуємо модуль, що мість набори даних для навчання моделей.\n",
    "from sklearn import datasets\n",
    "%matplotlib inline"
   ]
  },
  {
   "cell_type": "code",
   "execution_count": 39,
   "metadata": {},
   "outputs": [],
   "source": [
    "np.random.seed(512)"
   ]
  },
  {
   "cell_type": "code",
   "execution_count": 40,
   "metadata": {},
   "outputs": [],
   "source": [
    "# Завантажуємо набір даних бостонських домів.\n",
    "loaded_data = datasets.load_boston()"
   ]
  },
  {
   "cell_type": "code",
   "execution_count": 41,
   "metadata": {},
   "outputs": [],
   "source": [
    "# Розділяємо завантажені дані на X та y\n",
    "X = loaded_data.data\n",
    "y = loaded_data.target"
   ]
  },
  {
   "cell_type": "code",
   "execution_count": 42,
   "metadata": {},
   "outputs": [
    {
     "name": "stdout",
     "output_type": "stream",
     "text": [
      "Кількість прикладів та кількість ознак в даних\n",
      "m = 506 , n = 13\n"
     ]
    }
   ],
   "source": [
    "m = X.shape[0]\n",
    "n = X.shape[1]\n",
    "print('Кількість прикладів та кількість ознак в даних')\n",
    "print('m =', m, ',', 'n =', n)"
   ]
  },
  {
   "cell_type": "code",
   "execution_count": 43,
   "metadata": {},
   "outputs": [
    {
     "name": "stdout",
     "output_type": "stream",
     "text": [
      "Розмірність X: (506, 13)\n",
      "Розмірність y: (506,)\n"
     ]
    }
   ],
   "source": [
    "print('Розмірність X:', X.shape)\n",
    "print('Розмірність y:', y.shape)"
   ]
  },
  {
   "cell_type": "code",
   "execution_count": 44,
   "metadata": {},
   "outputs": [],
   "source": [
    "# Додаємо нульовий стовпець з одиниць до матриці X. \n",
    "ones_vector = np.ones((m, 1))\n",
    "X = np.concatenate((ones_vector, X), axis=1)"
   ]
  },
  {
   "cell_type": "code",
   "execution_count": 45,
   "metadata": {},
   "outputs": [
    {
     "data": {
      "text/plain": [
       "(506, 14)"
      ]
     },
     "execution_count": 45,
     "metadata": {},
     "output_type": "execute_result"
    }
   ],
   "source": [
    "# Розмірність X змінилась.\n",
    "X.shape"
   ]
  },
  {
   "cell_type": "code",
   "execution_count": 46,
   "metadata": {},
   "outputs": [
    {
     "name": "stdout",
     "output_type": "stream",
     "text": [
      "[-0.19178686 -0.26145488 -1.57389213 -1.30885791 -0.25001072 -0.60218954\n",
      "  2.53408158 -1.28263793  0.83974197 -0.7100226   0.80867675  0.23725623\n",
      " -0.65083358  1.91191026]\n"
     ]
    }
   ],
   "source": [
    "# Генеруємо параметри моделі, як випадклві невеликі числа.\n",
    "Theta = np.random.randn(n+1, )\n",
    "print(Theta)"
   ]
  },
  {
   "cell_type": "markdown",
   "metadata": {},
   "source": [
    "##### Функція, що визначає середню абсолютно (по модулю) помилку моделі на даних."
   ]
  },
  {
   "cell_type": "code",
   "execution_count": 47,
   "metadata": {},
   "outputs": [],
   "source": [
    "def compute_error(Theta, X, y):\n",
    "    mean_error = 1/m*sum(abs(np.dot(X, Theta) - y))\n",
    "    print(mean_error)"
   ]
  },
  {
   "cell_type": "code",
   "execution_count": 48,
   "metadata": {},
   "outputs": [
    {
     "name": "stdout",
     "output_type": "stream",
     "text": [
      "137.0720736262206\n"
     ]
    }
   ],
   "source": [
    "# Визначимо сердню абсолютну помилку поточної моделі (з випадковими параметрами) на навчальному наборі даних.\n",
    "compute_error(Theta, X, y)"
   ]
  },
  {
   "cell_type": "markdown",
   "metadata": {},
   "source": [
    "##### Функція, що визначає функціонал якості моделі."
   ]
  },
  {
   "cell_type": "code",
   "execution_count": 49,
   "metadata": {},
   "outputs": [],
   "source": [
    "def compute_cost(Theta):\n",
    "    J = 1/(2*m) * np.dot((np.dot(X, Theta) - y).T, (np.dot(X, Theta) - y))\n",
    "    return J"
   ]
  },
  {
   "cell_type": "markdown",
   "metadata": {},
   "source": [
    "##### Функція, що визначає градієнт функціонала якості."
   ]
  },
  {
   "cell_type": "code",
   "execution_count": 50,
   "metadata": {},
   "outputs": [],
   "source": [
    "def compute_grad(Theta):\n",
    "    grad_J = 1/m * np.dot(X.T, (np.dot(X, Theta) - y))\n",
    "    return grad_J"
   ]
  },
  {
   "cell_type": "code",
   "execution_count": 51,
   "metadata": {},
   "outputs": [],
   "source": [
    "# Швидкість навчання моделі (learning rate).\n",
    "alpha = 0.000003"
   ]
  },
  {
   "cell_type": "markdown",
   "metadata": {},
   "source": [
    "##### Навчання моделі."
   ]
  },
  {
   "cell_type": "code",
   "execution_count": 52,
   "metadata": {},
   "outputs": [],
   "source": [
    "costs = []\n",
    "for _ in range(10000):\n",
    "    grad_J = compute_grad(Theta)\n",
    "    Theta = Theta - alpha*grad_J\n",
    "    J = compute_cost(Theta)\n",
    "    costs.append(J)"
   ]
  },
  {
   "cell_type": "code",
   "execution_count": 53,
   "metadata": {},
   "outputs": [
    {
     "data": {
      "text/plain": [
       "Text(0.5, 0, 'n_iter (номер ітерації)')"
      ]
     },
     "execution_count": 53,
     "metadata": {},
     "output_type": "execute_result"
    },
    {
     "data": {
      "image/png": "[encoded data removed]",
      "text/plain": [
       "<Figure size 576x432 with 1 Axes>"
      ]
     },
     "metadata": {
      "needs_background": "light"
     },
     "output_type": "display_data"
    }
   ],
   "source": [
    "plt.figure(figsize=(8, 6))\n",
    "plt.plot(costs, color='darkorange', lw=3)\n",
    "plt.title('Залежність функції вартості, від ітерацій градієнтного спуску. alpha = ' + str(alpha))\n",
    "plt.ylabel('J (функція вартості)')\n",
    "plt.xlabel('n_iter (номер ітерації)')"
   ]
  },
  {
   "cell_type": "code",
   "execution_count": 54,
   "metadata": {},
   "outputs": [
    {
     "name": "stdout",
     "output_type": "stream",
     "text": [
      "7.005974422177663\n"
     ]
    }
   ],
   "source": [
    "# Визначимо середню помилку моделі на даних після навчання моделі.\n",
    "compute_error(Theta, X, y)"
   ]
  },
  {
   "cell_type": "markdown",
   "metadata": {},
   "source": [
    "##### Насправді, у бібліотеці scikit-learn міститься функція, що визначає середню помилку на даних. Вона має назву mean_absolute_error. Можна переконатись, що реалізована вами функція compute_error співпадає з mean_absolute_error."
   ]
  },
  {
   "cell_type": "code",
   "execution_count": 55,
   "metadata": {},
   "outputs": [
    {
     "data": {
      "text/plain": [
       "7.005974422177661"
      ]
     },
     "execution_count": 55,
     "metadata": {},
     "output_type": "execute_result"
    }
   ],
   "source": [
    "from sklearn.metrics import mean_absolute_error\n",
    "mean_absolute_error(y, np.dot(X, Theta))"
   ]
  },
  {
   "cell_type": "code",
   "execution_count": 56,
   "metadata": {},
   "outputs": [
    {
     "data": {
      "text/plain": [
       "3.270862810900317"
      ]
     },
     "execution_count": 56,
     "metadata": {},
     "output_type": "execute_result"
    }
   ],
   "source": [
    "from sklearn.linear_model import LinearRegression\n",
    "model = LinearRegression()\n",
    "model.fit(X, y)\n",
    "y_pred = model.predict(X)\n",
    "mean_absolute_error(y, y_pred)"
   ]
  },
  {
   "cell_type": "code",
   "execution_count": null,
   "metadata": {},
   "outputs": [],
   "source": []
  },
  {
   "cell_type": "code",
   "execution_count": null,
   "metadata": {},
   "outputs": [],
   "source": []
  }
 ],
 "metadata": {
  "kernelspec": {
   "display_name": "Python 3",
   "language": "python",
   "name": "python3"
  },
  "language_info": {
   "codemirror_mode": {
    "name": "ipython",
    "version": 3
   },
   "file_extension": ".py",
   "mimetype": "text/x-python",
   "name": "python",
   "nbconvert_exporter": "python",
   "pygments_lexer": "ipython3",
   "version": "3.7.3"
  }
 },
 "nbformat": 4,
 "nbformat_minor": 2
}
