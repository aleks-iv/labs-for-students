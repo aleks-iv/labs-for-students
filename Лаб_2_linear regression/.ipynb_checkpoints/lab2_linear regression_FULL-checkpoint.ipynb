{
 "cells": [
  {
   "cell_type": "markdown",
   "metadata": {},
   "source": [
    "## Лінійна регресія"
   ]
  },
  {
   "cell_type": "markdown",
   "metadata": {},
   "source": [
    "##### Імпортуємо необхідні бібліотеки"
   ]
  },
  {
   "cell_type": "code",
   "execution_count": 1,
   "metadata": {},
   "outputs": [
    {
     "name": "stderr",
     "output_type": "stream",
     "text": [
      "C:\\Users\\Aleks_Iv\\Anaconda3\\lib\\importlib\\_bootstrap.py:219: RuntimeWarning: numpy.ufunc size changed, may indicate binary incompatibility. Expected 192 from C header, got 216 from PyObject\n",
      "  return f(*args, **kwds)\n"
     ]
    }
   ],
   "source": [
    "# Імпортуємо бібліотеку для реалізації операцій лінійної алгебри.\n",
    "import numpy as np\n",
    "# Імпортуємо бібліотеку для побудови графіків\n",
    "import matplotlib.pyplot as plt\n",
    "# Імпортуємо бібліотеку машинного навчання scikit-learn [scikit-learn.org],\n",
    "# конкретно імпортуємо модуль, що мість набори даних для навчання моделей.\n",
    "from sklearn import datasets\n",
    "%matplotlib inline"
   ]
  },
  {
   "cell_type": "code",
   "execution_count": 2,
   "metadata": {},
   "outputs": [],
   "source": [
    "# Завантажуємо набір даних бостонських домів.\n",
    "loaded_data = datasets.load_boston()"
   ]
  },
  {
   "cell_type": "code",
   "execution_count": 3,
   "metadata": {},
   "outputs": [],
   "source": [
    "# Розділяємо завантажені дані на X та y\n",
    "X = loaded_data.data\n",
    "y = loaded_data.target"
   ]
  },
  {
   "cell_type": "code",
   "execution_count": 4,
   "metadata": {},
   "outputs": [
    {
     "name": "stdout",
     "output_type": "stream",
     "text": [
      "Кількість прикладів та кількість ознак в даних\n",
      "m = 506 , n = 13\n"
     ]
    }
   ],
   "source": [
    "m = X.shape[0]\n",
    "n = X.shape[1]\n",
    "print('Кількість прикладів та кількість ознак в даних')\n",
    "print('m =', m, ',', 'n =', n)"
   ]
  },
  {
   "cell_type": "code",
   "execution_count": 5,
   "metadata": {},
   "outputs": [
    {
     "name": "stdout",
     "output_type": "stream",
     "text": [
      "Розмірність X: (506, 13)\n",
      "Розмірність y: (506,)\n"
     ]
    }
   ],
   "source": [
    "print('Розмірність X:', X.shape)\n",
    "print('Розмірність y:', y.shape)"
   ]
  },
  {
   "cell_type": "code",
   "execution_count": 6,
   "metadata": {},
   "outputs": [],
   "source": [
    "# Додаємо нульовий стовпець з одиниць до матриці X. \n",
    "ones_vector = np.ones((m, 1))\n",
    "X = np.concatenate((ones_vector, X), axis=1)"
   ]
  },
  {
   "cell_type": "code",
   "execution_count": 7,
   "metadata": {},
   "outputs": [
    {
     "data": {
      "text/plain": [
       "(506, 14)"
      ]
     },
     "execution_count": 7,
     "metadata": {},
     "output_type": "execute_result"
    }
   ],
   "source": [
    "# Розмірність X змінилась.\n",
    "X.shape"
   ]
  },
  {
   "cell_type": "code",
   "execution_count": 8,
   "metadata": {},
   "outputs": [
    {
     "name": "stdout",
     "output_type": "stream",
     "text": [
      "[ 1.80424955  0.32869403  0.83399179  0.15563061 -2.79731391 -0.20769825\n",
      " -1.62724398 -1.32057827  1.03238487 -1.13201404  0.0224058   1.0544954\n",
      "  0.33063515  0.60362167]\n"
     ]
    }
   ],
   "source": [
    "# Генеруємо параметри моделі, як випадклві невеликі числа.\n",
    "Theta = np.random.randn(n+1, )\n",
    "print(Theta)"
   ]
  },
  {
   "cell_type": "markdown",
   "metadata": {},
   "source": [
    "##### Функція, що визначає середню абсолютно (по модулю) помилку моделі на даних."
   ]
  },
  {
   "cell_type": "code",
   "execution_count": 9,
   "metadata": {},
   "outputs": [],
   "source": [
    "def compute_error(Theta, X, y):\n",
    "    mean_error = 1/m*sum(abs(np.dot(X, Theta) - y))\n",
    "    print(mean_error)"
   ]
  },
  {
   "cell_type": "code",
   "execution_count": 10,
   "metadata": {},
   "outputs": [
    {
     "name": "stdout",
     "output_type": "stream",
     "text": [
      "56.553978943287696\n"
     ]
    }
   ],
   "source": [
    "# Визначимо сердню абсолютну помилку поточної моделі (з випадковими параметрами) на навчальному наборі даних.\n",
    "compute_error(Theta, X, y)"
   ]
  },
  {
   "cell_type": "markdown",
   "metadata": {},
   "source": [
    "##### Функція, що визначає функціонал якості моделі."
   ]
  },
  {
   "cell_type": "code",
   "execution_count": 11,
   "metadata": {},
   "outputs": [],
   "source": [
    "def compute_cost(Theta):\n",
    "    J = 1/(2*m) * np.dot((np.dot(X, Theta) - y).T, (np.dot(X, Theta) - y))\n",
    "    return J"
   ]
  },
  {
   "cell_type": "markdown",
   "metadata": {},
   "source": [
    "##### Функція, що визначає градієнт функціонала якості."
   ]
  },
  {
   "cell_type": "code",
   "execution_count": 29,
   "metadata": {},
   "outputs": [],
   "source": [
    "def compute_grad(Theta):\n",
    "    grad_J = 1/m * np.dot(X.T, (np.dot(X, Theta) - y))\n",
    "    return grad_J"
   ]
  },
  {
   "cell_type": "code",
   "execution_count": 13,
   "metadata": {},
   "outputs": [],
   "source": [
    "# Швидкість навчання моделі (learning rate).\n",
    "alpha = 0.000003"
   ]
  },
  {
   "cell_type": "code",
   "execution_count": 27,
   "metadata": {},
   "outputs": [
    {
     "data": {
      "text/plain": [
       "Text(0.5, 0, 'n_iter (номер ітерації)')"
      ]
     },
     "execution_count": 27,
     "metadata": {},
     "output_type": "execute_result"
    },
    {
     "data": {
      "image/png": "[encoded data removed]",
      "text/plain": [
       "<Figure size 576x432 with 1 Axes>"
      ]
     },
     "metadata": {
      "needs_background": "light"
     },
     "output_type": "display_data"
    }
   ],
   "source": [
    "costs = []\n",
    "for _ in range(1000):\n",
    "    grad_J = compute_grad(Theta)\n",
    "    Theta = Theta - alpha*grad_J\n",
    "    J = compute_cost(Theta)\n",
    "    costs.append(J)\n",
    "plt.figure(figsize=(8, 6))\n",
    "plt.plot(costs, color='darkorange', lw=3)\n",
    "plt.title('Залежність функції вартості, від ітерацій градієнтного спуску. alpha = ' + str(alpha))\n",
    "plt.ylabel('J (функція вартості)')\n",
    "plt.xlabel('n_iter (номер ітерації)')"
   ]
  },
  {
   "cell_type": "code",
   "execution_count": 21,
   "metadata": {},
   "outputs": [
    {
     "name": "stdout",
     "output_type": "stream",
     "text": [
      "5.3800848950108255\n"
     ]
    }
   ],
   "source": [
    "# Визначимо середню помилку моделі на даних після навчання моделі.\n",
    "compute_error(Theta, X, y)"
   ]
  },
  {
   "cell_type": "markdown",
   "metadata": {},
   "source": [
    "##### Насправді, у бібліотеці scikit-learn міститься функція, що визначає середню помилку на даних. Вона має назву mean_absolute_error. Можна переконатись, що реалізована вами функція compute_error співпажає з mean_absolute_error."
   ]
  },
  {
   "cell_type": "code",
   "execution_count": 23,
   "metadata": {},
   "outputs": [
    {
     "data": {
      "text/plain": [
       "5.380084895010829"
      ]
     },
     "execution_count": 23,
     "metadata": {},
     "output_type": "execute_result"
    }
   ],
   "source": [
    "from sklearn.metrics import mean_absolute_error\n",
    "mean_absolute_error(y, np.dot(X, Theta))"
   ]
  }
 ],
 "metadata": {
  "kernelspec": {
   "display_name": "Python 3",
   "language": "python",
   "name": "python3"
  },
  "language_info": {
   "codemirror_mode": {
    "name": "ipython",
    "version": 3
   },
   "file_extension": ".py",
   "mimetype": "text/x-python",
   "name": "python",
   "nbconvert_exporter": "python",
   "pygments_lexer": "ipython3",
   "version": "3.7.3"
  }
 },
 "nbformat": 4,
 "nbformat_minor": 2
}
