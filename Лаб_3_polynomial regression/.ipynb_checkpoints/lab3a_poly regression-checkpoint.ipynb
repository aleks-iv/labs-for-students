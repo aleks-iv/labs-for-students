{
 "cells": [
  {
   "cell_type": "markdown",
   "metadata": {},
   "source": [
    "## Поліноміальна регресія"
   ]
  },
  {
   "cell_type": "markdown",
   "metadata": {},
   "source": [
    "1) Завантажте данні датасету Ціни бостонських домів.\n",
    "\n",
    "2) До матриці ознакового опису даних Х додайте 13 нових ознак, що є квадратами стандартних.\n",
    "\n",
    "3) Виконайте масштабування ознак за допомогою функці scale.\n",
    "\n",
    "4) Додайте до матриці ознакового опису даних Х нульовий стовбець одиниць.\n",
    "\n",
    "4) Побудуйте та навчіть модель лінійної регресії на отриманій матриці X, підібравши оптимальне значення швидкості навчання.\n",
    "\n",
    "5) Визначте ефективність отриманого алгоритму, шляхом визначення середньої абсолютної помилки на навчальному наборі даних."
   ]
  },
  {
   "cell_type": "code",
   "execution_count": 20,
   "metadata": {},
   "outputs": [],
   "source": [
    "import numpy as np\n",
    "import matplotlib.pyplot as plt\n",
    "from sklearn import datasets\n",
    "from sklearn.metrics import mean_absolute_error\n",
    "from sklearn.preprocessing import scale\n",
    "%matplotlib inline"
   ]
  },
  {
   "cell_type": "code",
   "execution_count": 21,
   "metadata": {},
   "outputs": [],
   "source": [
    "np.random.seed(512)"
   ]
  },
  {
   "cell_type": "code",
   "execution_count": 22,
   "metadata": {},
   "outputs": [],
   "source": [
    "# Завантажуємо набір даних бостонських домів.\n",
    "loaded_data = datasets.load_boston()"
   ]
  },
  {
   "cell_type": "code",
   "execution_count": 23,
   "metadata": {},
   "outputs": [],
   "source": [
    "# Розділяємо завантажені дані на X та y\n",
    "X = loaded_data.data\n",
    "y = loaded_data.target"
   ]
  },
  {
   "cell_type": "code",
   "execution_count": 24,
   "metadata": {},
   "outputs": [
    {
     "name": "stdout",
     "output_type": "stream",
     "text": [
      "Кількість прикладів та кількість ознак в даних\n",
      "m = 506 , n = 13\n"
     ]
    }
   ],
   "source": [
    "m = X.shape[0]\n",
    "n = X.shape[1]\n",
    "print('Кількість прикладів та кількість ознак в даних')\n",
    "print('m =', m, ',', 'n =', n)"
   ]
  },
  {
   "cell_type": "code",
   "execution_count": 25,
   "metadata": {},
   "outputs": [
    {
     "name": "stdout",
     "output_type": "stream",
     "text": [
      "Розмірність X: (506, 13)\n",
      "Розмірність y: (506,)\n"
     ]
    }
   ],
   "source": [
    "print('Розмірність X:', X.shape)\n",
    "print('Розмірність y:', y.shape)"
   ]
  },
  {
   "cell_type": "code",
   "execution_count": 26,
   "metadata": {},
   "outputs": [],
   "source": [
    "X = np.concatenate((X, np.power(X, 2)), axis=1)"
   ]
  },
  {
   "cell_type": "code",
   "execution_count": 27,
   "metadata": {},
   "outputs": [],
   "source": [
    "X = scale(X)"
   ]
  },
  {
   "cell_type": "code",
   "execution_count": 28,
   "metadata": {},
   "outputs": [],
   "source": [
    "# Додаємо нульовий стовпець з одиниць до матриці X. \n",
    "ones_vector = np.ones((m, 1))\n",
    "X = np.concatenate((ones_vector, X), axis=1)"
   ]
  },
  {
   "cell_type": "code",
   "execution_count": 29,
   "metadata": {},
   "outputs": [
    {
     "data": {
      "text/plain": [
       "(506, 27)"
      ]
     },
     "execution_count": 29,
     "metadata": {},
     "output_type": "execute_result"
    }
   ],
   "source": [
    "# Розмірність X змінилась.\n",
    "X.shape"
   ]
  },
  {
   "cell_type": "code",
   "execution_count": 30,
   "metadata": {},
   "outputs": [
    {
     "name": "stdout",
     "output_type": "stream",
     "text": [
      "[-0.19178686 -0.26145488 -1.57389213 -1.30885791 -0.25001072 -0.60218954\n",
      "  2.53408158 -1.28263793  0.83974197 -0.7100226   0.80867675  0.23725623\n",
      " -0.65083358  1.91191026 -0.09882818  0.27878647 -0.03687115  0.22602227\n",
      "  0.95858929  0.10397081 -1.47058974  0.97145368  0.46283364  1.44551414\n",
      "  3.20885296 -0.43004266 -0.47846923]\n"
     ]
    }
   ],
   "source": [
    "# Генеруємо параметри моделі, як випадкові невеликі числа.\n",
    "Theta = np.random.randn(X.shape[1], )\n",
    "print(Theta)"
   ]
  },
  {
   "cell_type": "markdown",
   "metadata": {},
   "source": [
    "##### Функція, що визначає середню абсолютно (по модулю) помилку моделі на даних."
   ]
  },
  {
   "cell_type": "code",
   "execution_count": 31,
   "metadata": {},
   "outputs": [
    {
     "data": {
      "text/plain": [
       "22.744381276808962"
      ]
     },
     "execution_count": 31,
     "metadata": {},
     "output_type": "execute_result"
    }
   ],
   "source": [
    "# Визначимо сердню абсолютну помилку поточної моделі (з випадковими параметрами) на навчальному наборі даних.\n",
    "mean_absolute_error(y, np.dot(X, Theta))"
   ]
  },
  {
   "cell_type": "markdown",
   "metadata": {},
   "source": [
    "##### Функція, що визначає функціонал якості моделі."
   ]
  },
  {
   "cell_type": "code",
   "execution_count": 32,
   "metadata": {},
   "outputs": [],
   "source": [
    "def compute_cost(Theta):\n",
    "    J = 1/(2*m) * np.dot((np.dot(X, Theta) - y).T, (np.dot(X, Theta) - y))\n",
    "    return J"
   ]
  },
  {
   "cell_type": "markdown",
   "metadata": {},
   "source": [
    "##### Функція, що визначає градієнт функціонала якості."
   ]
  },
  {
   "cell_type": "code",
   "execution_count": 33,
   "metadata": {},
   "outputs": [],
   "source": [
    "def compute_grad(Theta):\n",
    "    grad_J = 1/m * np.dot(X.T, (np.dot(X, Theta) - y))\n",
    "    return grad_J"
   ]
  },
  {
   "cell_type": "code",
   "execution_count": 34,
   "metadata": {},
   "outputs": [],
   "source": [
    "# Швидкість навчання моделі (learning rate).\n",
    "alpha = .03"
   ]
  },
  {
   "cell_type": "code",
   "execution_count": 35,
   "metadata": {},
   "outputs": [],
   "source": [
    "costs = []\n",
    "for _ in range(100000):\n",
    "    grad_J = compute_grad(Theta)\n",
    "    Theta = Theta - alpha*grad_J\n",
    "    J = compute_cost(Theta)\n",
    "    costs.append(J)"
   ]
  },
  {
   "cell_type": "code",
   "execution_count": 36,
   "metadata": {},
   "outputs": [
    {
     "data": {
      "text/plain": [
       "Text(0.5, 0, 'n_iter (номер ітерації)')"
      ]
     },
     "execution_count": 36,
     "metadata": {},
     "output_type": "execute_result"
    },
    {
     "data": {
      "image/png": "[encoded data removed]",
      "text/plain": [
       "<Figure size 576x432 with 1 Axes>"
      ]
     },
     "metadata": {
      "needs_background": "light"
     },
     "output_type": "display_data"
    }
   ],
   "source": [
    "plt.figure(figsize=(8, 6))\n",
    "plt.plot(costs, color='darkorange', lw=3)\n",
    "plt.title('Залежність функції вартості, від ітерацій градієнтного спуску. alpha = ' + str(alpha))\n",
    "plt.ylabel('J (функція вартості)')\n",
    "plt.xlabel('n_iter (номер ітерації)')"
   ]
  },
  {
   "cell_type": "code",
   "execution_count": 37,
   "metadata": {},
   "outputs": [
    {
     "data": {
      "text/plain": [
       "2.5994277055139565"
      ]
     },
     "execution_count": 37,
     "metadata": {},
     "output_type": "execute_result"
    }
   ],
   "source": [
    "mean_absolute_error(y, np.dot(X, Theta))"
   ]
  },
  {
   "cell_type": "markdown",
   "metadata": {},
   "source": [
    "##### Дайте відповіді на запитання:\n",
    "\n",
    "1) Як змінилось оптимальне значення швидкості навчання відносно того, що було використано в лабораторній роботі №2? Чому воно змінилось?\n",
    "\n",
    "2) Як змінилось значення середньої абсолютної помилки відносно того, що було отримано в лабораторній роботі №2 Чому воно змінилось?"
   ]
  }
 ],
 "metadata": {
  "kernelspec": {
   "display_name": "Python 3",
   "language": "python",
   "name": "python3"
  },
  "language_info": {
   "codemirror_mode": {
    "name": "ipython",
    "version": 3
   },
   "file_extension": ".py",
   "mimetype": "text/x-python",
   "name": "python",
   "nbconvert_exporter": "python",
   "pygments_lexer": "ipython3",
   "version": "3.7.3"
  }
 },
 "nbformat": 4,
 "nbformat_minor": 2
}
