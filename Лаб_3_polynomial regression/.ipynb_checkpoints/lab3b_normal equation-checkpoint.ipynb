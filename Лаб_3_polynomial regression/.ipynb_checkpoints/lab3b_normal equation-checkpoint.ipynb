{
 "cells": [
  {
   "cell_type": "markdown",
   "metadata": {},
   "source": [
    "## Поліноміальна регресія"
   ]
  },
  {
   "cell_type": "markdown",
   "metadata": {},
   "source": [
    "##### 1) Використовуючи матеріал лабраторної роботи №2, завантажте данні датасету Ціни бостонських домів.\n",
    "##### 2) До матриці ознакового опису даних Х додайте 13 нових ознак, що є квадратами стандартних.\n",
    "##### 3) Побудуйте та навчіть модель лінійної регресії на отриманій матриці X.\n",
    "##### 4) Визначте ефективність отриманого алгоритму, шляхом визначення середньої абсолютної помилки на навчальному наборі даних. Порівняйте отримане значення з тим, що отримано у лабораторній роботі №2."
   ]
  },
  {
   "cell_type": "code",
   "execution_count": 3,
   "metadata": {},
   "outputs": [],
   "source": [
    "# Імпортуємо бібліотеку для реалізації операцій лінійної алгебри.\n",
    "import numpy as np\n",
    "# Імпортуємо бібліотеку для побудови графіків\n",
    "import matplotlib.pyplot as plt\n",
    "# Імпортуємо бібліотеку машинного навчання scikit-learn [scikit-learn.org],\n",
    "# конкретно імпортуємо модуль, що мість набори даних для навчання моделей.\n",
    "from sklearn import datasets\n",
    "%matplotlib inline"
   ]
  },
  {
   "cell_type": "code",
   "execution_count": 4,
   "metadata": {},
   "outputs": [],
   "source": [
    "# Завантажуємо набір даних бостонських домів.\n",
    "loaded_data = datasets.load_boston()"
   ]
  },
  {
   "cell_type": "code",
   "execution_count": 5,
   "metadata": {},
   "outputs": [],
   "source": [
    "# Розділяємо завантажені дані на X та y\n",
    "X = loaded_data.data\n",
    "y = loaded_data.target"
   ]
  },
  {
   "cell_type": "code",
   "execution_count": 6,
   "metadata": {},
   "outputs": [
    {
     "name": "stdout",
     "output_type": "stream",
     "text": [
      "Кількість прикладів та кількість ознак в даних\n",
      "m = 506 , n = 13\n"
     ]
    }
   ],
   "source": [
    "m = X.shape[0]\n",
    "n = X.shape[1]\n",
    "print('Кількість прикладів та кількість ознак в даних')\n",
    "print('m =', m, ',', 'n =', n)"
   ]
  },
  {
   "cell_type": "code",
   "execution_count": null,
   "metadata": {},
   "outputs": [],
   "source": [
    "print('Розмірність X:', X.shape)\n",
    "print('Розмірність y:', y.shape)"
   ]
  },
  {
   "cell_type": "code",
   "execution_count": null,
   "metadata": {},
   "outputs": [],
   "source": [
    "# Додаємо нульовий стовпець з одиниць до матриці X. \n",
    "ones_vector = np.ones((m, 1))\n",
    "X = np.concatenate((ones_vector, X), axis=1)"
   ]
  },
  {
   "cell_type": "code",
   "execution_count": null,
   "metadata": {},
   "outputs": [],
   "source": [
    "X = np.concatenate((X, np.sqrt(X[:, 1:])), axis=1)"
   ]
  },
  {
   "cell_type": "code",
   "execution_count": null,
   "metadata": {},
   "outputs": [],
   "source": [
    "Theta = np.dot(np.linalg.inv(np.dot(X.T, X)), np.dot(X.T, y))"
   ]
  },
  {
   "cell_type": "code",
   "execution_count": null,
   "metadata": {},
   "outputs": [],
   "source": []
  },
  {
   "cell_type": "code",
   "execution_count": null,
   "metadata": {},
   "outputs": [],
   "source": [
    "# Розмірність X змінилась.\n",
    "X.shape"
   ]
  },
  {
   "cell_type": "code",
   "execution_count": null,
   "metadata": {},
   "outputs": [],
   "source": [
    "# Генеруємо параметри моделі, як випадклві невеликі числа.\n",
    "Theta = np.random.randn(27, )\n",
    "print(Theta)"
   ]
  },
  {
   "cell_type": "markdown",
   "metadata": {},
   "source": [
    "##### Функція, що визначає середню абсолютно (по модулю) помилку моделі на даних."
   ]
  },
  {
   "cell_type": "code",
   "execution_count": null,
   "metadata": {},
   "outputs": [],
   "source": [
    "def compute_error(Theta, X, y):\n",
    "    mean_error = 1/m*sum(abs(np.dot(X, Theta) - y))\n",
    "    print(mean_error)"
   ]
  },
  {
   "cell_type": "code",
   "execution_count": null,
   "metadata": {},
   "outputs": [],
   "source": [
    "# Визначимо сердню абсолютну помилку поточної моделі (з випадковими параметрами) на навчальному наборі даних.\n",
    "compute_error(Theta, X, y)"
   ]
  },
  {
   "cell_type": "markdown",
   "metadata": {},
   "source": [
    "##### Функція, що визначає функціонал якості моделі."
   ]
  },
  {
   "cell_type": "code",
   "execution_count": null,
   "metadata": {},
   "outputs": [],
   "source": [
    "def compute_cost(Theta):\n",
    "    J = 1/(2*m) * np.dot((np.dot(X, Theta) - y).T, (np.dot(X, Theta) - y))\n",
    "    return J"
   ]
  },
  {
   "cell_type": "markdown",
   "metadata": {},
   "source": [
    "##### Функція, що визначає градієнт функціонала якості."
   ]
  },
  {
   "cell_type": "code",
   "execution_count": null,
   "metadata": {},
   "outputs": [],
   "source": [
    "def compute_grad(Theta):\n",
    "    grad_J = 1/m * np.dot(X.T, (np.dot(X, Theta) - y))\n",
    "    return grad_J"
   ]
  },
  {
   "cell_type": "code",
   "execution_count": null,
   "metadata": {},
   "outputs": [],
   "source": [
    "# Швидкість навчання моделі (learning rate).\n",
    "alpha = 0.000003"
   ]
  },
  {
   "cell_type": "code",
   "execution_count": null,
   "metadata": {},
   "outputs": [],
   "source": [
    "costs = []\n",
    "for _ in range(1000000):\n",
    "    grad_J = compute_grad(Theta)\n",
    "    Theta = Theta - alpha*grad_J\n",
    "    J = compute_cost(Theta)\n",
    "    costs.append(J)"
   ]
  },
  {
   "cell_type": "code",
   "execution_count": null,
   "metadata": {},
   "outputs": [],
   "source": [
    "plt.figure(figsize=(8, 6))\n",
    "plt.plot(costs, color='darkorange', lw=3)\n",
    "plt.title('Залежність функції вартості, від ітерацій градієнтного спуску. alpha = ' + str(alpha))\n",
    "plt.ylabel('J (функція вартості)')\n",
    "plt.xlabel('n_iter (номер ітерації)')"
   ]
  },
  {
   "cell_type": "code",
   "execution_count": null,
   "metadata": {},
   "outputs": [],
   "source": [
    "# Визначимо середню помилку моделі на даних після навчання моделі.\n",
    "compute_error(Theta, X, y)"
   ]
  },
  {
   "cell_type": "markdown",
   "metadata": {},
   "source": [
    "##### Насправді, у бібліотеці scikit-learn міститься функція, що визначає середню помилку на даних. Вона має назву mean_absolute_error. Можна переконатись, що реалізована вами функція compute_error співпажає з mean_absolute_error."
   ]
  },
  {
   "cell_type": "code",
   "execution_count": null,
   "metadata": {},
   "outputs": [],
   "source": [
    "from sklearn.metrics import mean_absolute_error\n",
    "mean_absolute_error(y, np.dot(X, Theta))"
   ]
  },
  {
   "cell_type": "code",
   "execution_count": null,
   "metadata": {},
   "outputs": [],
   "source": [
    "from sklearn.linear_model import LinearRegression\n",
    "\n",
    "model = LinearRegression(fit_intercept=False)\n",
    "model.fit(X, y)"
   ]
  },
  {
   "cell_type": "code",
   "execution_count": null,
   "metadata": {},
   "outputs": [],
   "source": [
    "y_pred = model.predict(X)"
   ]
  },
  {
   "cell_type": "code",
   "execution_count": null,
   "metadata": {},
   "outputs": [],
   "source": [
    "mean_absolute_error(y, y_pred)"
   ]
  },
  {
   "cell_type": "code",
   "execution_count": null,
   "metadata": {},
   "outputs": [],
   "source": []
  }
 ],
 "metadata": {
  "kernelspec": {
   "display_name": "Python 3",
   "language": "python",
   "name": "python3"
  },
  "language_info": {
   "codemirror_mode": {
    "name": "ipython",
    "version": 3
   },
   "file_extension": ".py",
   "mimetype": "text/x-python",
   "name": "python",
   "nbconvert_exporter": "python",
   "pygments_lexer": "ipython3",
   "version": "3.7.3"
  }
 },
 "nbformat": 4,
 "nbformat_minor": 2
}
