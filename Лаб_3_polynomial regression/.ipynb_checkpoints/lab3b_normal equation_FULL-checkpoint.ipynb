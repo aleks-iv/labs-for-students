{
 "cells": [
  {
   "cell_type": "markdown",
   "metadata": {},
   "source": [
    "## Нормальне рівняння"
   ]
  },
  {
   "cell_type": "markdown",
   "metadata": {},
   "source": [
    "1) Завантажте данні датасету Ціни бостонських домів.\n",
    "\n",
    "2) Використовуючи лекційний матеріал реалізуйте вирішення задачі лінійної регресії за допомогою нормальниого рівняння.\n",
    "\n",
    "3) Визначте ефективність отриманої моделі, шляхом визначення середньої абсолютної помилки на навчальному наборі даних."
   ]
  },
  {
   "cell_type": "code",
   "execution_count": 11,
   "metadata": {},
   "outputs": [],
   "source": [
    "# Імпортуємо бібліотеку для реалізації операцій лінійної алгебри.\n",
    "import numpy as np\n",
    "from sklearn import datasets\n",
    "from sklearn.metrics import mean_absolute_error"
   ]
  },
  {
   "cell_type": "code",
   "execution_count": 12,
   "metadata": {},
   "outputs": [],
   "source": [
    "# Завантажуємо набір даних бостонських домів.\n",
    "loaded_data = datasets.load_boston()"
   ]
  },
  {
   "cell_type": "code",
   "execution_count": 13,
   "metadata": {},
   "outputs": [],
   "source": [
    "# Розділяємо завантажені дані на X та y\n",
    "X = loaded_data.data\n",
    "y = loaded_data.target"
   ]
  },
  {
   "cell_type": "code",
   "execution_count": 14,
   "metadata": {},
   "outputs": [
    {
     "name": "stdout",
     "output_type": "stream",
     "text": [
      "Кількість прикладів та кількість ознак в даних\n",
      "m = 506 , n = 13\n"
     ]
    }
   ],
   "source": [
    "m = X.shape[0]\n",
    "n = X.shape[1]\n",
    "print('Кількість прикладів та кількість ознак в даних')\n",
    "print('m =', m, ',', 'n =', n)"
   ]
  },
  {
   "cell_type": "code",
   "execution_count": 15,
   "metadata": {},
   "outputs": [
    {
     "name": "stdout",
     "output_type": "stream",
     "text": [
      "Розмірність X: (506, 13)\n",
      "Розмірність y: (506,)\n"
     ]
    }
   ],
   "source": [
    "print('Розмірність X:', X.shape)\n",
    "print('Розмірність y:', y.shape)"
   ]
  },
  {
   "cell_type": "code",
   "execution_count": 16,
   "metadata": {},
   "outputs": [],
   "source": [
    "Theta = np.dot(np.linalg.inv(np.dot(X.T, X)), np.dot(X.T, y))"
   ]
  },
  {
   "cell_type": "code",
   "execution_count": 17,
   "metadata": {},
   "outputs": [
    {
     "data": {
      "text/plain": [
       "3.286733578961654"
      ]
     },
     "execution_count": 17,
     "metadata": {},
     "output_type": "execute_result"
    }
   ],
   "source": [
    "mean_absolute_error(y, np.dot(X, Theta))"
   ]
  },
  {
   "cell_type": "markdown",
   "metadata": {},
   "source": [
    "##### Дайте відповіді на запитання:\n",
    "\n",
    "1) Як змінилось значення середньої абсолютної помилки відносно того, що було отримано в лабораторній роботі №2 та лабораторній роботі №3а Чому воно змінилось?\n",
    "\n",
    "2) В чому полягають переваги і недоліки вирішення задачі лінійної регресії за допомогою нормального рівняння?"
   ]
  }
 ],
 "metadata": {
  "kernelspec": {
   "display_name": "Python 3",
   "language": "python",
   "name": "python3"
  },
  "language_info": {
   "codemirror_mode": {
    "name": "ipython",
    "version": 3
   },
   "file_extension": ".py",
   "mimetype": "text/x-python",
   "name": "python",
   "nbconvert_exporter": "python",
   "pygments_lexer": "ipython3",
   "version": "3.7.3"
  }
 },
 "nbformat": 4,
 "nbformat_minor": 2
}
