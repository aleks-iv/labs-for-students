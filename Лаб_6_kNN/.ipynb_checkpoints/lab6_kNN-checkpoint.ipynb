{
 "cells": [
  {
   "cell_type": "code",
   "execution_count": null,
   "metadata": {},
   "outputs": [],
   "source": [
    "import matplotlib.pyplot as plt                      # бібліотека для побудови графіків\n",
    "\n",
    "\n",
    "from sklearn.datasets import load_breast_cancer      # функція, що завантажує датасет пухлин грудної клітини (два класи:\n",
    "                                                     # доброякісні та злоякісні)\n",
    "from sklearn import metrics                          # модуль, що містить різноманітні метрики якості (в тому числі accuracy,\n",
    "                                                     # precision, recall та f1-score)\n",
    "from sklearn.model_selection import train_test_split # функція для розділення даних на тренувальні та тестувальні\n",
    "from sklearn.preprocessing import scale              # функція для масштабування даних"
   ]
  },
  {
   "cell_type": "code",
   "execution_count": null,
   "metadata": {},
   "outputs": [],
   "source": [
    "data = load_breast_cancer()\n",
    "shuffle()\n",
    "X = data.data\n",
    "X = scale(X)\n",
    "y = data.target\n",
    "X, y = shuffle(X, y, random_state=512)"
   ]
  },
  {
   "cell_type": "code",
   "execution_count": null,
   "metadata": {},
   "outputs": [],
   "source": [
    "X_train, X_test, y_train, y_test = train_test_split(X, y, test_size=0.25, shuffle=True, random_state=512)"
   ]
  },
  {
   "cell_type": "code",
   "execution_count": null,
   "metadata": {},
   "outputs": [],
   "source": [
    "m_train = X_train.shape[0]\n",
    "n = X.shape[1]\n",
    "print('m_train:', m_train)\n",
    "print('n:', n)"
   ]
  },
  {
   "cell_type": "code",
   "execution_count": null,
   "metadata": {},
   "outputs": [],
   "source": []
  }
 ],
 "metadata": {
  "kernelspec": {
   "display_name": "Python 3",
   "language": "python",
   "name": "python3"
  },
  "language_info": {
   "codemirror_mode": {
    "name": "ipython",
    "version": 3
   },
   "file_extension": ".py",
   "mimetype": "text/x-python",
   "name": "python",
   "nbconvert_exporter": "python",
   "pygments_lexer": "ipython3",
   "version": "3.7.3"
  }
 },
 "nbformat": 4,
 "nbformat_minor": 2
}
